{
 "cells": [
  {
   "cell_type": "code",
   "execution_count": 1,
   "metadata": {},
   "outputs": [],
   "source": [
    "import pandas as pd\n",
    "import numpy as np"
   ]
  },
  {
   "cell_type": "code",
   "execution_count": 2,
   "metadata": {},
   "outputs": [],
   "source": [
    "df = pd.read_excel(\"Hoboken_weekday.xlsx\")"
   ]
  },
  {
   "cell_type": "code",
   "execution_count": 3,
   "metadata": {},
   "outputs": [],
   "source": [
    "path = df.PATH_arrival_Hoboken_weekday"
   ]
  },
  {
   "cell_type": "code",
   "execution_count": 4,
   "metadata": {},
   "outputs": [],
   "source": [
    "lightrail = df.lightrail_departure_Hoboken_weekday"
   ]
  },
  {
   "cell_type": "code",
   "execution_count": 5,
   "metadata": {},
   "outputs": [],
   "source": [
    "lightrail.d`ropna(inplace = True)"
   ]
  },
  {
   "cell_type": "code",
   "execution_count": 17,
   "metadata": {},
   "outputs": [
    {
     "data": {
      "text/plain": [
       "0       6:44AM\n",
       "1       6:54AM\n",
       "2       7:04AM\n",
       "3       7:14AM\n",
       "4       7:24AM\n",
       "5       7:30AM\n",
       "6       7:36AM\n",
       "7       7:43AM\n",
       "8       7:50AM\n",
       "9       7:58AM\n",
       "10      8:06AM\n",
       "11      8:13AM\n",
       "12      8:20AM\n",
       "13      8:27AM\n",
       "14      8:34AM\n",
       "15      8:41AM\n",
       "16      8:48AM\n",
       "17      8:55AM\n",
       "18      9:02AM\n",
       "19      9:09AM\n",
       "20      9:16AM\n",
       "21      9:23AM\n",
       "22      9:30AM\n",
       "23      9:37AM\n",
       "24      9:46AM\n",
       "25      9:56AM\n",
       "26     10:06AM\n",
       "27     10:16AM\n",
       "28     10:26AM\n",
       "29     10:36AM\n",
       "        ...   \n",
       "80      6:24PM\n",
       "81      6:31PM\n",
       "82      6:38PM\n",
       "83      6:45PM\n",
       "84      6:52PM\n",
       "85      6:59PM\n",
       "86      7:06PM\n",
       "87      7:16PM\n",
       "88      7:26PM\n",
       "89      7:36PM\n",
       "90      7:46PM\n",
       "91      7:56PM\n",
       "92      8:06PM\n",
       "93      8:16PM\n",
       "94      8:26PM\n",
       "95      8:36PM\n",
       "96      8:46PM\n",
       "97      8:56PM\n",
       "98      9:06PM\n",
       "99      9:16PM\n",
       "100     9:26PM\n",
       "101     9:36PM\n",
       "102     9:49PM\n",
       "103    10:04PM\n",
       "104    10:19PM\n",
       "105    10:34PM\n",
       "106    10:49PM\n",
       "107    11:04PM\n",
       "108    11:19PM\n",
       "109    11:39PM\n",
       "Name: PATH_arrival_Hoboken_weekday, Length: 110, dtype: object"
      ]
     },
     "execution_count": 17,
     "metadata": {},
     "output_type": "execute_result"
    }
   ],
   "source": [
    "path"
   ]
  },
  {
   "cell_type": "code",
   "execution_count": 18,
   "metadata": {},
   "outputs": [
    {
     "data": {
      "text/plain": [
       "0     06:44 AM \n",
       "1     06:58 AM \n",
       "2     07:14 AM \n",
       "3     07:27 AM \n",
       "4     07:43 AM \n",
       "5     07:56 AM \n",
       "6     08:13 AM \n",
       "7     08:26 AM \n",
       "8     08:43 AM \n",
       "9     08:58 AM \n",
       "10    09:12 AM \n",
       "11    09:23 AM \n",
       "12    09:40 AM \n",
       "13    09:52 AM \n",
       "14    10:04 AM \n",
       "15    10:24 AM \n",
       "16    10:44 AM \n",
       "17    11:04 AM \n",
       "18    11:24 AM \n",
       "19    11:44 AM \n",
       "20    12:04 PM \n",
       "21    12:24 PM \n",
       "22    12:44 PM \n",
       "23    01:04 PM \n",
       "24    01:24 PM \n",
       "25    01:44 PM \n",
       "26    02:04 PM \n",
       "27    02:24 PM \n",
       "28    02:44 PM \n",
       "29    03:04 PM \n",
       "30    03:19 PM \n",
       "31    03:32 PM \n",
       "32    03:46 PM \n",
       "33    04:04 PM \n",
       "34    04:14 PM \n",
       "35    04:29 PM \n",
       "36    04:45 PM \n",
       "37    05:01 PM \n",
       "38    05:14 PM \n",
       "39    05:27 PM \n",
       "40    05:44 PM \n",
       "41    05:59 PM \n",
       "42    06:15 PM \n",
       "43    06:32 PM \n",
       "44    06:45 PM \n",
       "45    06:58 PM \n",
       "46    07:12 PM \n",
       "47    07:37 PM \n",
       "48    08:07 PM \n",
       "49    08:37 PM \n",
       "50    09:07 PM \n",
       "51    09:37 PM \n",
       "52    10:07 PM \n",
       "53    10:37 PM \n",
       "54    11:07 PM \n",
       "55    11:37 PM \n",
       "56    12:07 AM \n",
       "Name: lightrail_departure_Hoboken_weekday, dtype: object"
      ]
     },
     "execution_count": 18,
     "metadata": {},
     "output_type": "execute_result"
    }
   ],
   "source": [
    "lightrail"
   ]
  },
  {
   "cell_type": "code",
   "execution_count": 6,
   "metadata": {},
   "outputs": [],
   "source": [
    "lightrail.reset_index(inplace = True, drop = True)"
   ]
  },
  {
   "cell_type": "code",
   "execution_count": 7,
   "metadata": {},
   "outputs": [],
   "source": [
    "def path_time_to_int(time_string):\n",
    "    if time_string[-2:] == 'AM':\n",
    "        PM_addition = 0\n",
    "    else:\n",
    "        PM_addition = 12 * 60\n",
    "    split = time_string.split(':')\n",
    "    return (int(split[0]) % 12) * 60 + int(split[1][0:2]) + PM_addition"
   ]
  },
  {
   "cell_type": "code",
   "execution_count": 19,
   "metadata": {},
   "outputs": [
    {
     "data": {
      "text/plain": [
       "'8:06AM'"
      ]
     },
     "execution_count": 19,
     "metadata": {},
     "output_type": "execute_result"
    }
   ],
   "source": [
    "path[10]"
   ]
  },
  {
   "cell_type": "code",
   "execution_count": 25,
   "metadata": {},
   "outputs": [
    {
     "data": {
      "text/plain": [
       "1206"
      ]
     },
     "execution_count": 25,
     "metadata": {},
     "output_type": "execute_result"
    }
   ],
   "source": [
    "path_time_to_int('8:06PM')"
   ]
  },
  {
   "cell_type": "code",
   "execution_count": 26,
   "metadata": {},
   "outputs": [
    {
     "data": {
      "text/plain": [
       "1206"
      ]
     },
     "execution_count": 26,
     "metadata": {},
     "output_type": "execute_result"
    }
   ],
   "source": [
    "8*60+6+12*60"
   ]
  },
  {
   "cell_type": "code",
   "execution_count": 8,
   "metadata": {},
   "outputs": [],
   "source": [
    "def lr_time_to_int(time_string):\n",
    "    if time_string[-3:-1] == 'AM':\n",
    "        PM_addition = 0\n",
    "    else:\n",
    "        PM_addition = 12 * 60\n",
    "    split = time_string.split(':')\n",
    "    return (int(split[0][0:2]) % 12) * 60 + int(split[1][0:2]) + PM_addition"
   ]
  },
  {
   "cell_type": "code",
   "execution_count": 9,
   "metadata": {},
   "outputs": [],
   "source": [
    "def int_to_time_string(integ):\n",
    "    hour = integ // 60\n",
    "    minute = integ % 60\n",
    "    return str(hour) + ':' + str(minute)"
   ]
  },
  {
   "cell_type": "code",
   "execution_count": 27,
   "metadata": {},
   "outputs": [
    {
     "ename": "SyntaxError",
     "evalue": "invalid syntax (<ipython-input-27-5ced2cda485b>, line 1)",
     "output_type": "error",
     "traceback": [
      "\u001b[0;36m  File \u001b[0;32m\"<ipython-input-27-5ced2cda485b>\"\u001b[0;36m, line \u001b[0;32m1\u001b[0m\n\u001b[0;31m    int_to_time_string(1206):\u001b[0m\n\u001b[0m                             ^\u001b[0m\n\u001b[0;31mSyntaxError\u001b[0m\u001b[0;31m:\u001b[0m invalid syntax\n"
     ]
    }
   ],
   "source": [
    "int_to_time_string(1206):"
   ]
  },
  {
   "cell_type": "code",
   "execution_count": 10,
   "metadata": {},
   "outputs": [],
   "source": [
    "path_ints = path.map(path_time_to_int).sort_values()"
   ]
  },
  {
   "cell_type": "code",
   "execution_count": 11,
   "metadata": {},
   "outputs": [],
   "source": [
    "lr_ints = lightrail.map(lr_time_to_int).sort_values()"
   ]
  },
  {
   "cell_type": "code",
   "execution_count": 12,
   "metadata": {},
   "outputs": [
    {
     "data": {
      "text/plain": [
       "0       404\n",
       "1       414\n",
       "2       424\n",
       "3       434\n",
       "4       444\n",
       "5       450\n",
       "6       456\n",
       "7       463\n",
       "8       470\n",
       "9       478\n",
       "10      486\n",
       "11      493\n",
       "12      500\n",
       "13      507\n",
       "14      514\n",
       "15      521\n",
       "16      528\n",
       "17      535\n",
       "18      542\n",
       "19      549\n",
       "20      556\n",
       "21      563\n",
       "22      570\n",
       "23      577\n",
       "24      586\n",
       "25      596\n",
       "26      606\n",
       "27      616\n",
       "28      626\n",
       "29      636\n",
       "       ... \n",
       "80     1104\n",
       "81     1111\n",
       "82     1118\n",
       "83     1125\n",
       "84     1132\n",
       "85     1139\n",
       "86     1146\n",
       "87     1156\n",
       "88     1166\n",
       "89     1176\n",
       "90     1186\n",
       "91     1196\n",
       "92     1206\n",
       "93     1216\n",
       "94     1226\n",
       "95     1236\n",
       "96     1246\n",
       "97     1256\n",
       "98     1266\n",
       "99     1276\n",
       "100    1286\n",
       "101    1296\n",
       "102    1309\n",
       "103    1324\n",
       "104    1339\n",
       "105    1354\n",
       "106    1369\n",
       "107    1384\n",
       "108    1399\n",
       "109    1419\n",
       "Name: PATH_arrival_Hoboken_weekday, Length: 110, dtype: int64"
      ]
     },
     "execution_count": 12,
     "metadata": {},
     "output_type": "execute_result"
    }
   ],
   "source": [
    "path_ints"
   ]
  },
  {
   "cell_type": "code",
   "execution_count": 13,
   "metadata": {},
   "outputs": [
    {
     "data": {
      "text/plain": [
       "0     06:44 AM \n",
       "1     06:58 AM \n",
       "2     07:14 AM \n",
       "3     07:27 AM \n",
       "4     07:43 AM \n",
       "5     07:56 AM \n",
       "6     08:13 AM \n",
       "7     08:26 AM \n",
       "8     08:43 AM \n",
       "9     08:58 AM \n",
       "10    09:12 AM \n",
       "11    09:23 AM \n",
       "12    09:40 AM \n",
       "13    09:52 AM \n",
       "14    10:04 AM \n",
       "15    10:24 AM \n",
       "16    10:44 AM \n",
       "17    11:04 AM \n",
       "18    11:24 AM \n",
       "19    11:44 AM \n",
       "20    12:04 PM \n",
       "21    12:24 PM \n",
       "22    12:44 PM \n",
       "23    01:04 PM \n",
       "24    01:24 PM \n",
       "25    01:44 PM \n",
       "26    02:04 PM \n",
       "27    02:24 PM \n",
       "28    02:44 PM \n",
       "29    03:04 PM \n",
       "30    03:19 PM \n",
       "31    03:32 PM \n",
       "32    03:46 PM \n",
       "33    04:04 PM \n",
       "34    04:14 PM \n",
       "35    04:29 PM \n",
       "36    04:45 PM \n",
       "37    05:01 PM \n",
       "38    05:14 PM \n",
       "39    05:27 PM \n",
       "40    05:44 PM \n",
       "41    05:59 PM \n",
       "42    06:15 PM \n",
       "43    06:32 PM \n",
       "44    06:45 PM \n",
       "45    06:58 PM \n",
       "46    07:12 PM \n",
       "47    07:37 PM \n",
       "48    08:07 PM \n",
       "49    08:37 PM \n",
       "50    09:07 PM \n",
       "51    09:37 PM \n",
       "52    10:07 PM \n",
       "53    10:37 PM \n",
       "54    11:07 PM \n",
       "55    11:37 PM \n",
       "56    12:07 AM \n",
       "Name: lightrail_departure_Hoboken_weekday, dtype: object"
      ]
     },
     "execution_count": 13,
     "metadata": {},
     "output_type": "execute_result"
    }
   ],
   "source": [
    "lightrail"
   ]
  },
  {
   "cell_type": "code",
   "execution_count": 14,
   "metadata": {},
   "outputs": [
    {
     "data": {
      "text/plain": [
       "56       7\n",
       "0      404\n",
       "1      418\n",
       "2      434\n",
       "3      447\n",
       "4      463\n",
       "5      476\n",
       "6      493\n",
       "7      506\n",
       "8      523\n",
       "9      538\n",
       "10     552\n",
       "11     563\n",
       "12     580\n",
       "13     592\n",
       "14     604\n",
       "15     624\n",
       "16     644\n",
       "17     664\n",
       "18     684\n",
       "19     704\n",
       "20     724\n",
       "21     744\n",
       "22     764\n",
       "23     784\n",
       "24     804\n",
       "25     824\n",
       "26     844\n",
       "27     864\n",
       "28     884\n",
       "29     904\n",
       "30     919\n",
       "31     932\n",
       "32     946\n",
       "33     964\n",
       "34     974\n",
       "35     989\n",
       "36    1005\n",
       "37    1021\n",
       "38    1034\n",
       "39    1047\n",
       "40    1064\n",
       "41    1079\n",
       "42    1095\n",
       "43    1112\n",
       "44    1125\n",
       "45    1138\n",
       "46    1152\n",
       "47    1177\n",
       "48    1207\n",
       "49    1237\n",
       "50    1267\n",
       "51    1297\n",
       "52    1327\n",
       "53    1357\n",
       "54    1387\n",
       "55    1417\n",
       "Name: lightrail_departure_Hoboken_weekday, dtype: int64"
      ]
     },
     "execution_count": 14,
     "metadata": {},
     "output_type": "execute_result"
    }
   ],
   "source": [
    "lr_ints"
   ]
  },
  {
   "cell_type": "code",
   "execution_count": 15,
   "metadata": {},
   "outputs": [
    {
     "data": {
      "text/plain": [
       "486"
      ]
     },
     "execution_count": 15,
     "metadata": {},
     "output_type": "execute_result"
    }
   ],
   "source": [
    "path_time_to_int(path[10])"
   ]
  },
  {
   "cell_type": "code",
   "execution_count": 16,
   "metadata": {},
   "outputs": [
    {
     "data": {
      "text/plain": [
       "'8:06AM'"
      ]
     },
     "execution_count": 16,
     "metadata": {},
     "output_type": "execute_result"
    }
   ],
   "source": [
    "path[10]"
   ]
  },
  {
   "cell_type": "code",
   "execution_count": null,
   "metadata": {},
   "outputs": [],
   "source": []
  }
 ],
 "metadata": {
  "kernelspec": {
   "display_name": "Python 3",
   "language": "python",
   "name": "python3"
  },
  "language_info": {
   "codemirror_mode": {
    "name": "ipython",
    "version": 3
   },
   "file_extension": ".py",
   "mimetype": "text/x-python",
   "name": "python",
   "nbconvert_exporter": "python",
   "pygments_lexer": "ipython3",
   "version": "3.6.5"
  }
 },
 "nbformat": 4,
 "nbformat_minor": 2
}
